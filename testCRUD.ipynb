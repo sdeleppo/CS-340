{
 "cells": [
  {
   "cell_type": "code",
   "execution_count": 14,
   "metadata": {},
   "outputs": [
    {
     "name": "stderr",
     "output_type": "stream",
     "text": [
      "/home/0953859_snhu/animal_shelter.py:28: DeprecationWarning: insert is deprecated. Use insert_one or insert_many instead.\n",
      "  self.database.animals.insert(data) #data should be dictionary\n",
      "../home/0953859_snhu/animal_shelter.py:60: DeprecationWarning: remove is deprecated. Use delete_one or delete_many instead.\n",
      "  result = self.database.animals.remove(criteria) #data should be dictionary\n",
      "/usr/local/anaconda/lib/python3.6/site-packages/ipykernel_launcher.py:83: DeprecationWarning: Please use assertEqual instead.\n",
      ".x.x/home/0953859_snhu/animal_shelter.py:48: DeprecationWarning: update is deprecated. Use replace_one, update_one or update_many instead.\n",
      "  updated_data = self.database.animals.update(query, updated)\n",
      ".x"
     ]
    },
    {
     "name": "stdout",
     "output_type": "stream",
     "text": [
      "Document created: True\n",
      "Document created: False\n",
      "Return cursor object if query successful: <pymongo.cursor.Cursor object at 0x7fea8cac4ef0>\n",
      "Documents in query are: \n",
      "{'_id': ObjectId('60675c9ba7b1947f01b4d114'), 'breed': 'Pit Bull'}\n",
      "JSON string returned if update successful: {\"n\": 1, \"nModified\": 1, \"ok\": 1.0, \"updatedExisting\": true}\n",
      "JSON string returned if delete successful: {\"n\": 1, \"ok\": 1.0}\n"
     ]
    },
    {
     "name": "stderr",
     "output_type": "stream",
     "text": [
      "\n",
      "----------------------------------------------------------------------\n",
      "Ran 8 tests in 0.014s\n",
      "\n",
      "OK (expected failures=3)\n"
     ]
    }
   ],
   "source": [
    "from bson.objectid import ObjectId\n",
    "from animal_shelter import AnimalShelter\n",
    "from pymongo import MongoClient\n",
    "import unittest\n",
    "from bson.json_util import dumps\n",
    "\n",
    "#credentials for AAC login\n",
    "username = \"aacuser\"\n",
    "password = \"aacuserpw\"\n",
    "\n",
    "#Create instance of the object\n",
    "shelter = AnimalShelter(username, password)\n",
    "\n",
    "#C in CRUD\n",
    "#returns true if document created\n",
    "print(\"Document created:\",shelter.create(({\"breed\":\"Pit Bull\"})))\n",
    "#show failed document creation, returns false\n",
    "print(\"Document created:\",shelter.create(({0:0})))\n",
    "\n",
    "#R in CRUD\n",
    "results = shelter.read(({\"breed\":\"Pit Bull\"}))\n",
    "#return cursor object if query successful\n",
    "print(\"Return cursor object if query successful:\", results)\n",
    "print(\"Documents in query are: \")\n",
    "for doc in results:\n",
    "    print(doc)\n",
    "#show failed document read in unittests below\n",
    "\n",
    "#U in CRUD\n",
    "query ={\"outcome_type\":\"Transfer\"}\n",
    "updated = {'$set' :{\"outcome_type\":\"Adopted\"}}\n",
    "updateResult = shelter.update(query, updated)\n",
    "print(\"JSON string returned if update successful:\", updateResult)\n",
    "#show unsuccessful update in unittests below\n",
    "\n",
    "#D in CRUD\n",
    "#return JSON object if deletion successful\n",
    "delResult = shelter.delete(({\"breed\" : \"Pit Bull\"}))\n",
    "print(\"JSON string returned if delete successful:\", delResult)\n",
    "#show unsuccessful delete in unittests below\n",
    "\n",
    "\n",
    "#Unit tests to verify functional Create, Read, Update and Delete operations\n",
    "class TestCRUD(unittest.TestCase):\n",
    "    \n",
    "    #Create method tests-------------------\n",
    "    #test successful insertion of document into database, returns true if successful\n",
    "    def test_create(self):\n",
    "        self.assertTrue(shelter.create(({\"breed\":\"Pit Bull\"})))        \n",
    "    #test blank insertion of document, should return false as there is no data to insert\n",
    "    def test_blank_create(self):\n",
    "        self.assertFalse(shelter.create(()))\n",
    "    \n",
    "    \n",
    "    #Read method tests--------------------\n",
    "    #test successful query, should return cursor object if successful. if unsuccessful, data would be none\n",
    "    def test_read(self):\n",
    "        self.assertIsNotNone(shelter.read(({\"breed\":\"Pit Bull\"})))\n",
    "    #the following test checks that an error is returned if there is no data to read\n",
    "    #successful if error is returned\n",
    "    @unittest.expectedFailure\n",
    "    def test_read_error(self):\n",
    "        self.assertIsNotNone(shelter.read())\n",
    "    \n",
    "    \n",
    "    #Update method tests------------------\n",
    "    #test checks that JSON string is successfully returned when update is successful\n",
    "    def test_update(self):\n",
    "        expected = '{\"n\": 1, \"nModified\": 1, \"ok\": 1.0, \"updatedExisting\": true}'\n",
    "        query2 ={\"outcome_type\":\"Transfer\"}\n",
    "        updated2 = {'$set' :{\"outcome_type\":\"Adopted\"}}\n",
    "        updateResult2 = shelter.update(query, updated)\n",
    "        self.assertEquals(updateResult2, expected)\n",
    "    #the following test ensures that error is returned if update is unsuccessful, passes if error is returned\n",
    "    @unittest.expectedFailure\n",
    "    def test_update_error(self):\n",
    "        self.assertIsNotNone(shelter.update({0:0}, {'$set':{0:1}}))\n",
    "        \n",
    "        \n",
    "    #Delete method tests------------------\n",
    "    #test checks that JSON string is successfully returned when deletion is successful\n",
    "    def test_delete(self):\n",
    "        expected_result = '{\"n\": 1, \"ok\": 1.0}'\n",
    "        self.assertEquals(shelter.delete(({\"breed\" : \"Pit Bull\"})), expected_result)\n",
    "    #the following test ensures that error is returned if deletion is unsuccessful, passes if error is returned\n",
    "    @unittest.expectedFailure\n",
    "    def test_delete_error(self):\n",
    "        self.assertIsNotNone(shelter.delete({0:0}))\n",
    "        \n",
    "        \n",
    "if __name__ == '__main__':\n",
    "    unittest.main(argv=['first-arg-is-ignored'], exit=False)"
   ]
  },
  {
   "cell_type": "code",
   "execution_count": null,
   "metadata": {},
   "outputs": [],
   "source": []
  },
  {
   "cell_type": "code",
   "execution_count": null,
   "metadata": {},
   "outputs": [],
   "source": []
  },
  {
   "cell_type": "code",
   "execution_count": null,
   "metadata": {},
   "outputs": [],
   "source": []
  }
 ],
 "metadata": {
  "kernelspec": {
   "display_name": "Python 3",
   "language": "python",
   "name": "python3"
  },
  "language_info": {
   "codemirror_mode": {
    "name": "ipython",
    "version": 3
   },
   "file_extension": ".py",
   "mimetype": "text/x-python",
   "name": "python",
   "nbconvert_exporter": "python",
   "pygments_lexer": "ipython3",
   "version": "3.6.9"
  }
 },
 "nbformat": 4,
 "nbformat_minor": 2
}
